{
  "cells": [
    {
      "cell_type": "markdown",
      "metadata": {
        "id": "view-in-github",
        "colab_type": "text"
      },
      "source": [
        "<a href=\"https://colab.research.google.com/github/baijuthomas528/B_Python/blob/main/06_Trading_Futures_Options.ipynb\" target=\"_parent\"><img src=\"https://colab.research.google.com/assets/colab-badge.svg\" alt=\"Open In Colab\"/></a>"
      ]
    },
    {
      "cell_type": "markdown",
      "source": [
        "                                                                \n",
        "                                                                **Price Trends**"
      ],
      "metadata": {
        "id": "8X0hyaeExoc8"
      }
    },
    {
      "cell_type": "code",
      "source": [
        "import yfinance as yf\n",
        "import pandas as pd\n",
        "\n",
        "def plot_stock_returns(tickers, start_date, end_date):\n",
        "    # Create a dictionary to hold the results for each ticker\n",
        "    results_dict = {}\n",
        "\n",
        "    for ticker in tickers:\n",
        "        # Download stock data for the specified ticker and date range\n",
        "        stock_data = yf.download(ticker, start=start_date, end=end_date)\n",
        "\n",
        "        # Get the current price of the ticker\n",
        "        current_price = stock_data['Adj Close'][-1]\n",
        "\n",
        "        # Calculate daily returns\n",
        "        stock_data['Daily Return'] = stock_data['Adj Close'].pct_change()\n",
        "\n",
        "        # Resample to weekly data and calculate weekly returns\n",
        "        stock_data['Weekly Return'] = stock_data['Adj Close'].resample('W-FRI').ffill().pct_change()\n",
        "\n",
        "        # Calculate the required statistics for daily returns\n",
        "        max_daily_return = stock_data['Daily Return'].max()\n",
        "        min_daily_return = stock_data['Daily Return'].min()\n",
        "        median_daily_return = stock_data['Daily Return'].median()\n",
        "        avg_daily_return = stock_data['Daily Return'].mean()\n",
        "\n",
        "        # Find the dates for the max and min daily returns\n",
        "        max_daily_return_date = stock_data['Daily Return'].idxmax()\n",
        "        min_daily_return_date = stock_data['Daily Return'].idxmin()\n",
        "\n",
        "        # Calculate the required statistics for weekly returns\n",
        "        weekly_data = stock_data['Weekly Return'].dropna()  # Drop NaN values before calculating stats\n",
        "        max_weekly_return = weekly_data.max()\n",
        "        min_weekly_return = weekly_data.min()\n",
        "        median_weekly_return = weekly_data.median()\n",
        "        avg_weekly_return = weekly_data.mean()\n",
        "\n",
        "        # Find the dates for the max and min weekly returns\n",
        "        max_weekly_return_date = weekly_data.idxmax()\n",
        "        min_weekly_return_date = weekly_data.idxmin()\n",
        "\n",
        "        # Calculate the price after applying the min weekly return\n",
        "        price_below_min_weekly = current_price * (1 + min_weekly_return)\n",
        "        # Calculate the price after applying the max weekly return\n",
        "        price_above_max_weekly = current_price * (1 + max_weekly_return)\n",
        "\n",
        "        # Count the number of times daily and weekly returns were close to 3%, 5%, and 10%\n",
        "        daily_3_percent_count = stock_data['Daily Return'].abs().ge(0.03).sum()\n",
        "        daily_5_percent_count = stock_data['Daily Return'].abs().ge(0.05).sum()\n",
        "        daily_10_percent_count = stock_data['Daily Return'].abs().ge(0.10).sum()\n",
        "        weekly_3_percent_count = weekly_data.abs().ge(0.03).sum()\n",
        "        weekly_4_percent_count = weekly_data.abs().ge(0.04).sum()\n",
        "        weekly_5_percent_count = weekly_data.abs().ge(0.05).sum()\n",
        "        weekly_10_percent_count = weekly_data.abs().ge(0.10).sum()\n",
        "\n",
        "        # Store the results in the dictionary\n",
        "        results_dict[ticker] = {\n",
        "            \"Current Price\": f\"{current_price:.2f}\",\n",
        "            \"Max Daily Return\": f\"{max_daily_return:.5%}\",\n",
        "            \"Max Daily Return Date\": max_daily_return_date,\n",
        "            \"Min Daily Return\": f\"{min_daily_return:.5%}\",\n",
        "            \"Min Daily Return Date\": min_daily_return_date,\n",
        "            \"Median Daily Return\": f\"{median_daily_return:.5%}\",\n",
        "            \"Average Daily Return\": f\"{avg_daily_return:.5%}\",\n",
        "            \"Max Weekly Return\": f\"{max_weekly_return:.5%}\",\n",
        "            \"Max Weekly Return Date\": max_weekly_return_date,\n",
        "            \"Min Weekly Return\": f\"{min_weekly_return:.5%}\",\n",
        "            \"Min Weekly Return Date\": min_weekly_return_date,\n",
        "            \"Price Above Max Weekly\": f\"{price_above_max_weekly:.2f}\",\n",
        "            \"Price Below Min Weekly\": f\"{price_below_min_weekly:.2f}\",\n",
        "            \"Median Weekly Return\": f\"{median_weekly_return:.5%}\",\n",
        "            \"Average Weekly Return\": f\"{avg_weekly_return:.5%}\",\n",
        "            \"Times Daily Return Tested 3%\": daily_3_percent_count,\n",
        "            \"Times Daily Return Tested 5%\": daily_5_percent_count,\n",
        "            \"Times Daily Return Tested 10%\": daily_10_percent_count,\n",
        "            \"Times Weekly Return Tested 3%\": weekly_3_percent_count,\n",
        "            \"Times Weekly Return Tested 4%\": weekly_4_percent_count,\n",
        "            \"Times Weekly Return Tested 5%\": weekly_5_percent_count,\n",
        "            \"Times Weekly Return Tested 10%\": weekly_10_percent_count\n",
        "        }\n",
        "\n",
        "    # Convert the results dictionary to a DataFrame for better readability\n",
        "    results_df = pd.DataFrame(results_dict)\n",
        "\n",
        "\n",
        "    # Display the results with tickers as headers\n",
        "    print(results_df)\n",
        "\n",
        "# Example usage:\n",
        "tickers = [\"SPY\", \"QQQ\", \"^SPX\", \"NVDA\"]  # List of tickers you want to analyze\n",
        "start_date = \"2024-05-01\"  # Start date\n",
        "end_date = \"2024-12-28\"  # End date\n",
        "\n",
        "plot_stock_returns(tickers, start_date, end_date)\n"
      ],
      "metadata": {
        "colab": {
          "base_uri": "https://localhost:8080/"
        },
        "id": "DNOat5fjnL7K",
        "outputId": "cce24643-5086-4b58-a67f-cf3e4733370c"
      },
      "execution_count": 5,
      "outputs": [
        {
          "output_type": "stream",
          "name": "stderr",
          "text": [
            "[*********************100%%**********************]  1 of 1 completed\n",
            "<ipython-input-5-39b12e0f2e60>:13: FutureWarning: Series.__getitem__ treating keys as positions is deprecated. In a future version, integer keys will always be treated as labels (consistent with DataFrame behavior). To access a value by position, use `ser.iloc[pos]`\n",
            "  current_price = stock_data['Adj Close'][-1]\n",
            "[*********************100%%**********************]  1 of 1 completed\n",
            "<ipython-input-5-39b12e0f2e60>:13: FutureWarning: Series.__getitem__ treating keys as positions is deprecated. In a future version, integer keys will always be treated as labels (consistent with DataFrame behavior). To access a value by position, use `ser.iloc[pos]`\n",
            "  current_price = stock_data['Adj Close'][-1]\n",
            "[*********************100%%**********************]  1 of 1 completed\n",
            "<ipython-input-5-39b12e0f2e60>:13: FutureWarning: Series.__getitem__ treating keys as positions is deprecated. In a future version, integer keys will always be treated as labels (consistent with DataFrame behavior). To access a value by position, use `ser.iloc[pos]`\n",
            "  current_price = stock_data['Adj Close'][-1]\n",
            "[*********************100%%**********************]  1 of 1 completed"
          ]
        },
        {
          "output_type": "stream",
          "name": "stdout",
          "text": [
            "                                                SPY                  QQQ  \\\n",
            "Current Price                                554.31               475.03   \n",
            "Max Daily Return                           2.31174%             3.05909%   \n",
            "Max Daily Return Date           2024-08-08 00:00:00  2024-08-08 00:00:00   \n",
            "Min Daily Return                          -2.91237%            -3.58703%   \n",
            "Min Daily Return Date           2024-08-05 00:00:00  2024-07-24 00:00:00   \n",
            "Median Daily Return                        0.13628%             0.22444%   \n",
            "Average Daily Return                       0.14654%             0.17163%   \n",
            "Max Weekly Return                          4.00008%             5.46613%   \n",
            "Max Weekly Return Date          2024-08-16 00:00:00  2024-08-16 00:00:00   \n",
            "Min Weekly Return                         -2.11961%            -3.95700%   \n",
            "Min Weekly Return Date          2024-08-02 00:00:00  2024-07-19 00:00:00   \n",
            "Price Above Max Weekly                       576.48               501.00   \n",
            "Price Below Min Weekly                       542.56               456.23   \n",
            "Median Weekly Return                       0.64236%             0.36992%   \n",
            "Average Weekly Return                      0.57347%             0.62499%   \n",
            "Times Daily Return Tested 3%                      0                    2   \n",
            "Times Daily Return Tested 5%                      0                    0   \n",
            "Times Daily Return Tested 10%                     0                    0   \n",
            "Times Weekly Return Tested 3%                     1                    5   \n",
            "Times Weekly Return Tested 4%                     1                    1   \n",
            "Times Weekly Return Tested 5%                     0                    1   \n",
            "Times Weekly Return Tested 10%                    0                    0   \n",
            "\n",
            "                                               ^SPX                 NVDA  \n",
            "Current Price                               5554.25               124.58  \n",
            "Max Daily Return                           2.30426%            12.81210%  \n",
            "Max Daily Return Date           2024-08-08 00:00:00  2024-07-31 00:00:00  \n",
            "Min Daily Return                          -2.99688%            -7.04364%  \n",
            "Min Daily Return Date           2024-08-05 00:00:00  2024-07-30 00:00:00  \n",
            "Median Daily Return                        0.15376%             0.62728%  \n",
            "Average Daily Return                       0.14091%             0.62237%  \n",
            "Max Weekly Return                          3.93120%            18.93079%  \n",
            "Max Weekly Return Date          2024-08-16 00:00:00  2024-08-16 00:00:00  \n",
            "Min Weekly Return                         -2.06151%            -8.75116%  \n",
            "Min Weekly Return Date          2024-08-02 00:00:00  2024-07-19 00:00:00  \n",
            "Price Above Max Weekly                      5772.60               148.16  \n",
            "Price Below Min Weekly                      5439.75               113.68  \n",
            "Median Weekly Return                       0.60792%             1.85365%  \n",
            "Average Weekly Return                      0.54562%             2.55405%  \n",
            "Times Daily Return Tested 3%                      0                   31  \n",
            "Times Daily Return Tested 5%                      0                   15  \n",
            "Times Daily Return Tested 10%                     0                    1  \n",
            "Times Weekly Return Tested 3%                     1                    8  \n",
            "Times Weekly Return Tested 4%                     0                    8  \n",
            "Times Weekly Return Tested 5%                     0                    6  \n",
            "Times Weekly Return Tested 10%                    0                    3  \n"
          ]
        },
        {
          "output_type": "stream",
          "name": "stderr",
          "text": [
            "\n",
            "<ipython-input-5-39b12e0f2e60>:13: FutureWarning: Series.__getitem__ treating keys as positions is deprecated. In a future version, integer keys will always be treated as labels (consistent with DataFrame behavior). To access a value by position, use `ser.iloc[pos]`\n",
            "  current_price = stock_data['Adj Close'][-1]\n"
          ]
        }
      ]
    },
    {
      "cell_type": "markdown",
      "source": [
        "**Black Scholes calculator**"
      ],
      "metadata": {
        "id": "-p-q2YBXlfOo"
      }
    },
    {
      "cell_type": "code",
      "source": [
        "#Black Scholes calculator\n",
        "\n",
        "import numpy as np\n",
        "from scipy.stats import norm\n",
        "\n",
        "# Parameters\n",
        "S = 71.72  # Spot price\n",
        "K = 70     # Strike price\n",
        "T = 5 / 365  # Time to expiration in years\n",
        "r = 0.02     # Risk-free interest rate\n",
        "sigma = 0.11 # Volatility\n",
        "\n",
        "# Black-Scholes Put Price Calculation\n",
        "d1 = (np.log(S / K) + (r + 0.5 * sigma ** 2) * T) / (sigma * np.sqrt(T))\n",
        "d2 = d1 - sigma * np.sqrt(T)\n",
        "put_price = K * np.exp(-r * T) * norm.cdf(-d2) - S * norm.cdf(-d1)\n",
        "\n",
        "put_price *1000\n"
      ],
      "metadata": {
        "colab": {
          "base_uri": "https://localhost:8080/"
        },
        "id": "hR2a1yoVpnhK",
        "outputId": "7baf41db-1b01-4198-c088-3d44c304e85f"
      },
      "execution_count": null,
      "outputs": [
        {
          "output_type": "execute_result",
          "data": {
            "text/plain": [
              "9.907285935262022"
            ]
          },
          "metadata": {},
          "execution_count": 31
        }
      ]
    },
    {
      "cell_type": "markdown",
      "source": [
        "**Stress Testing Spread trades in options**"
      ],
      "metadata": {
        "id": "bi5lTCgcljbe"
      }
    },
    {
      "cell_type": "code",
      "source": [
        "# Stress Testing Spread trades in options\n",
        "\n",
        "import numpy as np\n",
        "from scipy.stats import norm\n",
        "import pandas as pd\n",
        "\n",
        "def black_scholes_put(S, K, T, r, sigma, multiplier):\n",
        "    d1 = (np.log(S / K) + (r + 0.5 * sigma ** 2) * T) / (sigma * np.sqrt(T))\n",
        "    d2 = d1 - sigma * np.sqrt(T)\n",
        "    put_price = K * np.exp(-r * T) * norm.cdf(-d2) - S * norm.cdf(-d1)\n",
        "    return put_price * multiplier\n",
        "\n",
        "def calculate_pnl(S, strike_long, strike_short, premium_long, premium_short, T, r, sigma, multiplier, lots):\n",
        "    # Define the percentage moves you want to analyze\n",
        "    percentages = [-0.10, -0.05, -0.04, -0.03, -0.02, -0.01, 0, 0.01, 0.02, 0.03, 0.04, 0.05, 0.10]\n",
        "    S_values = [S * (1 + pct) for pct in percentages]\n",
        "\n",
        "    # Calculate the initial credit received\n",
        "    initial_credit = (premium_short - premium_long) * multiplier * lots\n",
        "\n",
        "    # Calculate max loss\n",
        "    strike_width = strike_short - strike_long\n",
        "    max_loss = (strike_width * multiplier * lots) + initial_credit\n",
        "\n",
        "    # Calculate PnL and store premiums for each scenario\n",
        "    pnls = []\n",
        "    premiums_long = []\n",
        "    premiums_short = []\n",
        "\n",
        "    for S_new in S_values:\n",
        "        # Calculate new premiums using Black-Scholes\n",
        "        new_premium_long = black_scholes_put(S_new, strike_long, T, r, sigma, multiplier)\n",
        "        new_premium_short = black_scholes_put(S_new, strike_short, T, r, sigma, multiplier)\n",
        "\n",
        "        # Calculate spread value\n",
        "        spread_value = (new_premium_short - new_premium_long) * lots\n",
        "\n",
        "        # Calculate PnL (starting with the initial credit received)\n",
        "        pnl = initial_credit - spread_value\n",
        "\n",
        "        # Cap the loss at the max loss\n",
        "        pnl = max(-max_loss, pnl)\n",
        "\n",
        "        # Append values for display\n",
        "        pnls.append(pnl)\n",
        "        premiums_long.append(new_premium_long)\n",
        "        premiums_short.append(new_premium_short)\n",
        "\n",
        "    return pnls, premiums_long, premiums_short, S_values\n",
        "\n",
        "# Template for Input Parameters (You can change these)\n",
        "S = 475.03  # Spot price\n",
        "strike_long = 450  # Long option strike (bought)\n",
        "strike_short = 455  # Short option strike (sold)\n",
        "premium_long = 0.25  # Premium for long option\n",
        "premium_short = 0.40  # Premium for short option\n",
        "T = 5 / 365  # Time to expiration in years\n",
        "r = 0.02  # Risk-free rate\n",
        "sigma = 0.11  # Volatility\n",
        "multiplier = 100  # Contract multiplier (change if needed)\n",
        "lots = 2  # Number of lots\n",
        "\n",
        "# Calculate PnL and premiums\n",
        "pnls, premiums_long, premiums_short, S_values = calculate_pnl(S, strike_long, strike_short, premium_long, premium_short, T, r, sigma, multiplier, lots)\n",
        "\n",
        "# Create a DataFrame for display\n",
        "df_pnl = pd.DataFrame({\n",
        "    \"Strikes\": [f\"{strike_long}/{strike_short}\"],\n",
        "    \"-10%\": [pnls[0]],\n",
        "    \"-5%\": [pnls[1]],\n",
        "    \"-4%\": [pnls[2]],\n",
        "    \"-3%\": [pnls[3]],\n",
        "    \"-2%\": [pnls[4]],\n",
        "    \"-1%\": [pnls[5]],\n",
        "    \"0%\": [pnls[6]],\n",
        "    \"+1%\": [pnls[7]],\n",
        "    \"+2%\": [pnls[8]],\n",
        "    \"+3%\": [pnls[9]],\n",
        "    \"+4%\": [pnls[10]],\n",
        "    \"+5%\": [pnls[11]],\n",
        "    \"+10%\": [pnls[12]]\n",
        "})\n",
        "\n",
        "# Format the PnL columns to show dollar amounts\n",
        "for col in df_pnl.columns[1:]:\n",
        "    df_pnl[col] = df_pnl[col].apply(lambda x: f\"${x:.2f}\")\n",
        "\n",
        "# Create a DataFrame for premiums and new spot prices\n",
        "df_premiums = pd.DataFrame({\n",
        "    \"Strikes\": [f\"{strike_long}/{strike_short}\"],\n",
        "    \"-10% Spot\": [f\"{S_values[0]:.2f}\"], \"-10% Long\": [f\"${premiums_long[0]:.2f}\"], \"-10% Short\": [f\"${premiums_short[0]:.2f}\"],\n",
        "    \"-5% Spot\": [f\"{S_values[1]:.2f}\"], \"-5% Long\": [f\"${premiums_long[1]:.2f}\"], \"-5% Short\": [f\"${premiums_short[1]:.2f}\"],\n",
        "    \"-4% Spot\": [f\"{S_values[2]:.2f}\"], \"-4% Long\": [f\"${premiums_long[2]:.2f}\"], \"-4% Short\": [f\"${premiums_short[2]:.2f}\"],\n",
        "    \"-3% Spot\": [f\"{S_values[3]:.2f}\"], \"-3% Long\": [f\"${premiums_long[3]:.2f}\"], \"-3% Short\": [f\"${premiums_short[3]:.2f}\"],\n",
        "    \"-2% Spot\": [f\"{S_values[4]:.2f}\"], \"-2% Long\": [f\"${premiums_long[4]:.2f}\"], \"-2% Short\": [f\"${premiums_short[4]:.2f}\"],\n",
        "    \"-1% Spot\": [f\"{S_values[5]:.2f}\"], \"-1% Long\": [f\"${premiums_long[5]:.2f}\"], \"-1% Short\": [f\"${premiums_short[5]:.2f}\"],\n",
        "    \"0% Spot\": [f\"{S_values[6]:.2f}\"], \"0% Long\": [f\"${premiums_long[6]:.2f}\"], \"0% Short\": [f\"${premiums_short[6]:.2f}\"],\n",
        "    \"+1% Spot\": [f\"{S_values[7]:.2f}\"], \"+1% Long\": [f\"${premiums_long[7]:.2f}\"], \"+1% Short\": [f\"${premiums_short[7]:.2f}\"],\n",
        "    \"+2% Spot\": [f\"{S_values[8]:.2f}\"], \"+2% Long\": [f\"${premiums_long[8]:.2f}\"], \"+2% Short\": [f\"${premiums_short[8]:.2f}\"],\n",
        "    \"+3% Spot\": [f\"{S_values[9]:.2f}\"], \"+3% Long\": [f\"${premiums_long[9]:.2f}\"], \"+3% Short\": [f\"${premiums_short[9]:.2f}\"],\n",
        "    \"+4% Spot\": [f\"{S_values[10]:.2f}\"], \"+4% Long\": [f\"${premiums_long[10]:.2f}\"], \"+4% Short\": [f\"${premiums_short[10]:.2f}\"],\n",
        "    \"+5% Spot\": [f\"{S_values[11]:.2f}\"], \"+5% Long\": [f\"${premiums_long[11]:.2f}\"], \"+5% Short\": [f\"${premiums_short[11]:.2f}\"],\n",
        "    \"+10% Spot\": [f\"{S_values[12]:.2f}\"], \"+10% Long\": [f\"${premiums_long[12]:.2f}\"], \"+10% Short\": [f\"${premiums_short[12]:.2f}\"]\n",
        "})\n",
        "\n",
        "# Display the results\n",
        "print(\"PnL Results:\")\n",
        "print(df_pnl)\n",
        "print(\"\\nPremiums and Spot Prices at Different Market Moves:\")\n",
        "print(df_premiums)\n"
      ],
      "metadata": {
        "colab": {
          "base_uri": "https://localhost:8080/"
        },
        "id": "KWdBeAVtLCef",
        "outputId": "0c83236d-9206-4726-c939-0a0139ee9d35"
      },
      "execution_count": null,
      "outputs": [
        {
          "output_type": "stream",
          "name": "stdout",
          "text": [
            "PnL Results:\n",
            "   Strikes      -10%       -5%       -4%      -3%     -2%     -1%      0%  \\\n",
            "0  450/455  $-969.72  $-544.76  $-244.12  $-53.54  $14.45  $28.27  $29.89   \n",
            "\n",
            "      +1%     +2%     +3%     +4%     +5%    +10%  \n",
            "0  $30.00  $30.00  $30.00  $30.00  $30.00  $30.00  \n",
            "\n",
            "Premiums and Spot Prices at Different Market Moves:\n",
            "   Strikes -10% Spot -10% Long -10% Short -5% Spot -5% Long -5% Short  \\\n",
            "0  450/455    427.53  $2234.98   $2734.84   451.28  $168.06   $455.44   \n",
            "\n",
            "  -4% Spot -4% Long -4% Short  ... +3% Short +4% Spot +4% Long +4% Short  \\\n",
            "0   456.03   $43.71   $180.77  ...     $0.00   494.03    $0.00     $0.00   \n",
            "\n",
            "  +5% Spot +5% Long +5% Short +10% Spot +10% Long +10% Short  \n",
            "0   498.78    $0.00     $0.00    522.53     $0.00      $0.00  \n",
            "\n",
            "[1 rows x 40 columns]\n"
          ]
        }
      ]
    },
    {
      "cell_type": "markdown",
      "source": [
        "**Seasonality per Ticker**"
      ],
      "metadata": {
        "id": "qUbzTZLplrJt"
      }
    },
    {
      "cell_type": "code",
      "source": [
        "# Seasonality per Ticker\n",
        "\n",
        "import pandas as pd\n",
        "import numpy as np\n",
        "import yfinance as yf\n",
        "\n",
        "def seasonality_grid(ticker, start_date, end_date):\n",
        "    # Download historical data for the given ticker\n",
        "    data = yf.download(ticker, start=start_date, end=end_date)\n",
        "\n",
        "    # Calculate monthly returns\n",
        "    data['Monthly Return'] = data['Adj Close'].resample('M').ffill().pct_change() * 100\n",
        "\n",
        "    # Group data by year and month\n",
        "    data['Year'] = data.index.year\n",
        "    data['Month'] = data.index.strftime('%b')\n",
        "\n",
        "    # Pivot the data to create a grid with years as rows and months as columns\n",
        "    df = data.pivot_table(index='Year', columns='Month', values='Monthly Return', aggfunc='mean')\n",
        "\n",
        "    # Reorder the columns to follow the calendar months\n",
        "    months_order = ['Jan', 'Feb', 'Mar', 'Apr', 'May', 'Jun', 'Jul', 'Aug', 'Sep', 'Oct', 'Nov', 'Dec']\n",
        "    df = df[months_order]\n",
        "\n",
        "    # Add Average, Median, High, and Low\n",
        "    df.loc['Average'] = df.mean()\n",
        "    df.loc['Median'] = df.median()\n",
        "    df.loc['High'] = df.max()\n",
        "    df.loc['Low'] = df.min()\n",
        "\n",
        "    # Display the DataFrame\n",
        "    print(df)\n",
        "\n",
        "# Example usage:\n",
        "ticker = 'QQQ'\n",
        "start_date = '2014-01-01'\n",
        "end_date = '2024-12-31'\n",
        "\n",
        "seasonality_grid(ticker, start_date, end_date)\n"
      ],
      "metadata": {
        "colab": {
          "base_uri": "https://localhost:8080/"
        },
        "id": "OS_CZal67zDN",
        "outputId": "b44f2302-fc77-4569-d8f4-f74947fcb1de"
      },
      "execution_count": 4,
      "outputs": [
        {
          "output_type": "stream",
          "name": "stderr",
          "text": [
            "\r[*********************100%%**********************]  1 of 1 completed"
          ]
        },
        {
          "output_type": "stream",
          "name": "stdout",
          "text": [
            "Month          Jan       Feb       Mar        Apr       May       Jun  \\\n",
            "Year                                                                    \n",
            "2014           NaN  5.152414 -2.733547  -0.319401       NaN  3.123819   \n",
            "2015           NaN       NaN -2.358999   1.922348       NaN -2.484116   \n",
            "2016           NaN -1.565354  6.852597        NaN  4.370037 -2.278031   \n",
            "2017      5.140116  4.375049  2.026858        NaN  3.897322 -2.317938   \n",
            "2018      8.757055 -1.292766       NaN   0.505827  5.672927       NaN   \n",
            "2019      9.010786  2.991155       NaN   5.499260 -8.225165       NaN   \n",
            "2020      3.038435       NaN -7.285832  14.973731       NaN  6.286662   \n",
            "2021           NaN       NaN  1.716768   5.909823       NaN  6.262148   \n",
            "2022     -8.747028 -4.475957  4.667890        NaN -1.586606 -8.907866   \n",
            "2023     10.642939 -0.359790  9.492713        NaN  7.883811  6.303837   \n",
            "2024      1.819208  5.283348       NaN  -4.373777  6.151818       NaN   \n",
            "Average   4.237359  1.263512  1.547306   3.445402  2.594878  0.748564   \n",
            "Median    4.688737  1.263512  1.716768   2.683875  4.133679  0.748564   \n",
            "High     10.642939  5.283348  9.492713  14.973731  7.883811  6.303837   \n",
            "Low      -8.747028 -4.475957 -7.285832  -4.373777 -8.225165 -8.907866   \n",
            "\n",
            "Month         Jul        Aug        Sep       Oct        Nov       Dec  \n",
            "Year                                                                    \n",
            "2014     1.181986        NaN  -0.756643  2.641955        NaN -2.240618  \n",
            "2015     4.557770  -6.824452  -2.207314       NaN   0.608846 -1.594786  \n",
            "2016          NaN   1.050068   2.213536 -1.457226   0.435954       NaN  \n",
            "2017     4.061316   2.073568        NaN  4.606431   1.971741       NaN  \n",
            "2018     2.796385   5.780682        NaN -8.595693  -0.265004 -8.660732  \n",
            "2019     2.334787        NaN   0.917878  4.380065        NaN  3.886376  \n",
            "2020     7.346522  10.944713  -5.778589       NaN  11.225789  4.902438  \n",
            "2021          NaN   4.218698  -5.683178       NaN   1.996810  1.152358  \n",
            "2022          NaN  -5.132168 -10.535563  3.999861   5.544155       NaN  \n",
            "2023     3.860113  -1.483006        NaN -2.065482  10.818828       NaN  \n",
            "2024    -1.678107        NaN        NaN       NaN        NaN       NaN  \n",
            "Average  3.057596   1.328513  -3.118553  0.501416   4.042140 -0.425827  \n",
            "Median   3.057596   1.328513  -2.662934  1.571685   1.996810 -0.425827  \n",
            "High     7.346522  10.944713   2.213536  4.606431  11.225789  4.902438  \n",
            "Low     -1.678107  -6.824452 -10.535563 -8.595693  -0.265004 -8.660732  \n"
          ]
        },
        {
          "output_type": "stream",
          "name": "stderr",
          "text": [
            "\n"
          ]
        }
      ]
    }
  ],
  "metadata": {
    "colab": {
      "provenance": [],
      "toc_visible": true,
      "include_colab_link": true
    },
    "language_info": {
      "name": "python"
    },
    "kernelspec": {
      "name": "python3",
      "display_name": "Python 3"
    }
  },
  "nbformat": 4,
  "nbformat_minor": 0
}