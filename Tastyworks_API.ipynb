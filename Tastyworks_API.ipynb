{
  "nbformat": 4,
  "nbformat_minor": 0,
  "metadata": {
    "colab": {
      "provenance": [],
      "authorship_tag": "ABX9TyMQhxWwMQotCYvHFnsPUlSI",
      "include_colab_link": true
    },
    "kernelspec": {
      "name": "python3",
      "display_name": "Python 3"
    },
    "language_info": {
      "name": "python"
    }
  },
  "cells": [
    {
      "cell_type": "markdown",
      "metadata": {
        "id": "view-in-github",
        "colab_type": "text"
      },
      "source": [
        "<a href=\"https://colab.research.google.com/github/baijuthomas528/B_Python/blob/main/Tastyworks_API.ipynb\" target=\"_parent\"><img src=\"https://colab.research.google.com/assets/colab-badge.svg\" alt=\"Open In Colab\"/></a>"
      ]
    },
    {
      "cell_type": "code",
      "execution_count": null,
      "metadata": {
        "colab": {
          "base_uri": "https://localhost:8080/"
        },
        "id": "uAdD4yQ3R7by",
        "outputId": "15815a1a-4255-49c0-ad4b-e6fba15e77e9"
      },
      "outputs": [
        {
          "output_type": "stream",
          "name": "stdout",
          "text": [
            "QUOTE: {'eventType': 'Quote', 'eventSymbol': 'BTC/USD:CXTALP', 'eventTime': 0, 'sequence': 0, 'timeNanoPart': 0, 'bidTime': 0, 'bidExchangeCode': 'Z', 'bidPrice': 107512.1, 'bidSize': 0.015, 'askTime': 0, 'askExchangeCode': 'Z', 'askPrice': 108650.99, 'askSize': 0.015, 'symbol': 'BTC/USD'}\n",
            "QUOTE: {'eventType': 'Quote', 'eventSymbol': 'BTC/USD:CXTALP', 'eventTime': 0, 'sequence': 0, 'timeNanoPart': 0, 'bidTime': 0, 'bidExchangeCode': 'Z', 'bidPrice': 107512.1, 'bidSize': 0.015, 'askTime': 0, 'askExchangeCode': 'Z', 'askPrice': 108651.18, 'askSize': 0.015, 'symbol': 'BTC/USD'}\n",
            "QUOTE: {'eventType': 'Quote', 'eventSymbol': 'BTC/USD:CXTALP', 'eventTime': 0, 'sequence': 0, 'timeNanoPart': 0, 'bidTime': 0, 'bidExchangeCode': 'Z', 'bidPrice': 107512.1, 'bidSize': 0.015, 'askTime': 0, 'askExchangeCode': 'Z', 'askPrice': 108651.12, 'askSize': 0.015, 'symbol': 'BTC/USD'}\n",
            "QUOTE: {'eventType': 'Quote', 'eventSymbol': 'BTC/USD:CXTALP', 'eventTime': 0, 'sequence': 0, 'timeNanoPart': 0, 'bidTime': 0, 'bidExchangeCode': 'Z', 'bidPrice': 107512.1, 'bidSize': 0.015, 'askTime': 0, 'askExchangeCode': 'Z', 'askPrice': 108650.79, 'askSize': 0.015, 'symbol': 'BTC/USD'}\n",
            "Requirement already satisfied: tastytrade-sdk in /usr/local/lib/python3.11/dist-packages (1.2.0)\n",
            "Requirement already satisfied: bidict<0.23.0,>=0.22.1 in /usr/local/lib/python3.11/dist-packages (from tastytrade-sdk) (0.22.1)\n",
            "Requirement already satisfied: injector<0.21.0,>=0.20.1 in /usr/local/lib/python3.11/dist-packages (from tastytrade-sdk) (0.20.1)\n",
            "Requirement already satisfied: requests<3.0.0,>=2.31.0 in /usr/local/lib/python3.11/dist-packages (from tastytrade-sdk) (2.32.3)\n",
            "Requirement already satisfied: strenum<0.5.0,>=0.4.15 in /usr/local/lib/python3.11/dist-packages (from tastytrade-sdk) (0.4.15)\n",
            "Requirement already satisfied: ujson<6.0.0,>=5.8.0 in /usr/local/lib/python3.11/dist-packages (from tastytrade-sdk) (5.10.0)\n",
            "Requirement already satisfied: websockets<12.0.0,>=11.0.3 in /usr/local/lib/python3.11/dist-packages (from tastytrade-sdk) (11.0.3)\n",
            "Requirement already satisfied: charset-normalizer<4,>=2 in /usr/local/lib/python3.11/dist-packages (from requests<3.0.0,>=2.31.0->tastytrade-sdk) (3.4.2)\n",
            "Requirement already satisfied: idna<4,>=2.5 in /usr/local/lib/python3.11/dist-packages (from requests<3.0.0,>=2.31.0->tastytrade-sdk) (3.10)\n",
            "Requirement already satisfied: urllib3<3,>=1.21.1 in /usr/local/lib/python3.11/dist-packages (from requests<3.0.0,>=2.31.0->tastytrade-sdk) (2.4.0)\n",
            "Requirement already satisfied: certifi>=2017.4.17 in /usr/local/lib/python3.11/dist-packages (from requests<3.0.0,>=2.31.0->tastytrade-sdk) (2025.6.15)\n",
            "QUOTE: {'eventType': 'Quote', 'eventSymbol': 'BTC/USD:CXTALP', 'eventTime': 0, 'sequence': 0, 'timeNanoPart': 0, 'bidTime': 0, 'bidExchangeCode': 'Z', 'bidPrice': 107512.1, 'bidSize': 0.015, 'askTime': 0, 'askExchangeCode': 'Z', 'askPrice': 108650.94, 'askSize': 0.015, 'symbol': 'BTC/USD'}\n",
            "QUOTE: {'eventType': 'Quote', 'eventSymbol': 'BTC/USD:CXTALP', 'eventTime': 0, 'sequence': 0, 'timeNanoPart': 0, 'bidTime': 0, 'bidExchangeCode': 'Z', 'bidPrice': 107515.24, 'bidSize': 0.015, 'askTime': 0, 'askExchangeCode': 'Z', 'askPrice': 108651.06, 'askSize': 0.015, 'symbol': 'BTC/USD'}\n",
            "QUOTE: {'eventType': 'Quote', 'eventSymbol': 'BTC/USD:CXTALP', 'eventTime': 0, 'sequence': 0, 'timeNanoPart': 0, 'bidTime': 0, 'bidExchangeCode': 'Z', 'bidPrice': 107515.24, 'bidSize': 0.015, 'askTime': 0, 'askExchangeCode': 'Z', 'askPrice': 108650.98, 'askSize': 0.015, 'symbol': 'BTC/USD'}\n",
            "QUOTE: {'eventType': 'Quote', 'eventSymbol': 'BTC/USD:CXTALP', 'eventTime': 0, 'sequence': 0, 'timeNanoPart': 0, 'bidTime': 0, 'bidExchangeCode': 'Z', 'bidPrice': 107515.24, 'bidSize': 0.015, 'askTime': 0, 'askExchangeCode': 'Z', 'askPrice': 108650.92, 'askSize': 0.015, 'symbol': 'BTC/USD'}\n",
            "QUOTE: {'eventType': 'Quote', 'eventSymbol': 'BTC/USD:CXTALP', 'eventTime': 0, 'sequence': 0, 'timeNanoPart': 0, 'bidTime': 0, 'bidExchangeCode': 'Z', 'bidPrice': 107515.24, 'bidSize': 0.015, 'askTime': 0, 'askExchangeCode': 'Z', 'askPrice': 108650.77, 'askSize': 0.015, 'symbol': 'BTC/USD'}\n",
            "QUOTE: {'eventType': 'Quote', 'eventSymbol': 'BTC/USD:CXTALP', 'eventTime': 0, 'sequence': 0, 'timeNanoPart': 0, 'bidTime': 0, 'bidExchangeCode': 'Z', 'bidPrice': 107515.24, 'bidSize': 0.015, 'askTime': 0, 'askExchangeCode': 'Z', 'askPrice': 108650.79, 'askSize': 0.015, 'symbol': 'BTC/USD'}\n",
            "QUOTE: {'eventType': 'Quote', 'eventSymbol': 'BTC/USD:CXTALP', 'eventTime': 0, 'sequence': 0, 'timeNanoPart': 0, 'bidTime': 0, 'bidExchangeCode': 'Z', 'bidPrice': 107515.24, 'bidSize': 0.015, 'askTime': 0, 'askExchangeCode': 'Z', 'askPrice': 108650.89, 'askSize': 0.015, 'symbol': 'BTC/USD'}\n",
            "QUOTE: {'eventType': 'Quote', 'eventSymbol': 'BTC/USD:CXTALP', 'eventTime': 0, 'sequence': 0, 'timeNanoPart': 0, 'bidTime': 0, 'bidExchangeCode': 'Z', 'bidPrice': 107515.24, 'bidSize': 0.015, 'askTime': 0, 'askExchangeCode': 'Z', 'askPrice': 108650.99, 'askSize': 0.015, 'symbol': 'BTC/USD'}\n"
          ]
        }
      ],
      "source": [
        "pip install tastytrade-sdk"
      ]
    },
    {
      "cell_type": "code",
      "source": [
        "from tastytrade_sdk import Tastytrade\n",
        "\n",
        "tasty = Tastytrade()\n",
        "\n",
        "try:\n",
        "    # Attempt login\n",
        "    tasty.login(\n",
        "        login='baijuthomas528@gmail.com',\n",
        "        password='Bournemouth08'  # replace 'xxx' with your real password\n",
        "    )\n",
        "    print(\"Login successful.\")\n",
        "\n",
        "    # Validate the session and get the response\n",
        "    response = tasty.api.post('/sessions/validate')\n",
        "    print(\"Session validation response:\", response)\n",
        "\n",
        "finally:\n",
        "    tasty.logout()\n",
        "    print(\"Logged out.\")\n"
      ],
      "metadata": {
        "colab": {
          "base_uri": "https://localhost:8080/"
        },
        "id": "n1N41bKWh1kb",
        "outputId": "0b2ba9b4-1771-49c4-aead-b2cb279b0601"
      },
      "execution_count": null,
      "outputs": [
        {
          "output_type": "stream",
          "name": "stdout",
          "text": [
            "Login successful.\n",
            "Session validation response: {'data': {'email': 'baijuthomas528@gmail.com', 'external-id': 'U0000201104', 'is-confirmed': True, 'is-two-factor-sessions-enforced': False, 'username': 'baijuthomas528', 'id': 13123}, 'context': '/sessions/validate'}\n",
            "Logged out.\n"
          ]
        }
      ]
    },
    {
      "cell_type": "code",
      "source": [
        "from tastytrade_sdk import Tastytrade\n",
        "\n",
        "# 1. Create API client\n",
        "tasty = Tastytrade()\n",
        "\n",
        "try:\n",
        "    # 2. Login\n",
        "    tasty.login(\n",
        "        login=\"baijuthomas528@gmail.com\",\n",
        "        password=\"Bournemouth08\"\n",
        "    )\n",
        "    print(\"Login successful.\")\n",
        "\n",
        "    # 3. Define the symbols you want to stream\n",
        "    symbols = [\n",
        "        'SPY',\n",
        "        'BTC/USD',\n",
        "        '/ESU4'  # Example E-mini S&P futures contract\n",
        "    ]\n",
        "\n",
        "    # 4. Create a subscription\n",
        "    subscription = tasty.market_data.subscribe(\n",
        "        symbols=symbols,\n",
        "        on_quote=lambda quote: print(\"QUOTE:\", quote),\n",
        "        on_candle=lambda candle: print(\"CANDLE:\", candle),\n",
        "        on_greeks=lambda greeks: print(\"GREEKS:\", greeks)\n",
        "    )\n",
        "\n",
        "    # 5. Start streaming (blocks the script)\n",
        "    print(\"Starting streaming... Press Ctrl+C to stop.\")\n",
        "    subscription.open()\n",
        "\n",
        "finally:\n",
        "    # 6. Logout when done\n",
        "    tasty.logout()\n",
        "    print(\"Logged out.\")\n"
      ],
      "metadata": {
        "colab": {
          "base_uri": "https://localhost:8080/"
        },
        "id": "bnapP_07iRnR",
        "outputId": "5bf7ac7a-ef9d-43b4-e966-1f4f6982be68"
      },
      "execution_count": null,
      "outputs": [
        {
          "output_type": "stream",
          "name": "stdout",
          "text": [
            "Login successful.\n",
            "QUOTE: {'eventType': 'Quote', 'eventSymbol': 'BTC/USD:CXTALP', 'eventTime': 0, 'sequence': 0, 'timeNanoPart': 0, 'bidTime': 0, 'bidExchangeCode': 'Z', 'bidPrice': 107518.71, 'bidSize': 0.015, 'askTime': 0, 'askExchangeCode': 'Z', 'askPrice': 108651.99, 'askSize': 0.015, 'symbol': 'BTC/USD'}\n",
            "Starting streaming... Press Ctrl+C to stop.\n",
            "QUOTE: {'eventType': 'Quote', 'eventSymbol': 'BTC/USD:CXTALP', 'eventTime': 0, 'sequence': 0, 'timeNanoPart': 0, 'bidTime': 0, 'bidExchangeCode': 'Z', 'bidPrice': 107518.71, 'bidSize': 0.015, 'askTime': 0, 'askExchangeCode': 'Z', 'askPrice': 108651.99, 'askSize': 0.015, 'symbol': 'BTC/USD'}\n",
            "QUOTE: {'eventType': 'Quote', 'eventSymbol': 'SPY', 'eventTime': 0, 'sequence': 0, 'timeNanoPart': 0, 'bidTime': 0, 'bidExchangeCode': 'Q', 'bidPrice': 624.99, 'bidSize': 'NaN', 'askTime': 0, 'askExchangeCode': 'Q', 'askPrice': 625.06, 'askSize': 'NaN', 'symbol': 'SPY'}\n",
            "CANDLE: {'eventType': 'Candle', 'eventSymbol': 'SPY', 'eventTime': 0, 'eventFlags': 0, 'index': 7522963298611150752, 'time': 1751576387000, 'sequence': 311200, 'count': 1, 'open': 625.01, 'high': 625.01, 'low': 625.01, 'close': 625.01, 'volume': 200.0, 'vwap': 'NaN', 'bidVolume': 'NaN', 'askVolume': 'NaN', 'impVolatility': 'NaN', 'openInterest': 'NaN', 'symbol': 'SPY'}\n",
            "Logged out.\n"
          ]
        }
      ]
    },
    {
      "cell_type": "code",
      "source": [
        "from tastytrade_sdk import Tastytrade\n",
        "\n",
        "tasty = Tastytrade()\n",
        "\n",
        "try:\n",
        "    # 1. Login\n",
        "    tasty.login(\n",
        "        login=\"Baijuthomas528@gmail.com\",\n",
        "        password=\"Bournemouth08\"\n",
        "    )\n",
        "    print(\"Login successful.\")\n",
        "\n",
        "    # 2. Get accounts\n",
        "    accounts = tasty.api.get('/customers/me/accounts')\n",
        "    first_account = accounts['data']['items'][0]['account']['account-number']\n",
        "    print(\"Using account:\", first_account)\n",
        "\n",
        "    # 3. Get balances\n",
        "    balances = tasty.api.get(f'/accounts/{first_account}/balances')\n",
        "    balance_data = balances['data']\n",
        "\n",
        "    print(\"\\n=== Account Balances ===\")\n",
        "    for key, value in balance_data.items():\n",
        "        print(f\"{key:30}: {value}\")\n",
        "\n",
        "finally:\n",
        "    tasty.logout()\n",
        "    print(\"Logged out.\")\n"
      ],
      "metadata": {
        "colab": {
          "base_uri": "https://localhost:8080/"
        },
        "id": "I9isg3rJkmiI",
        "outputId": "f25e1207-5604-4832-a141-c73bf3f3e037"
      },
      "execution_count": null,
      "outputs": [
        {
          "output_type": "stream",
          "name": "stdout",
          "text": [
            "QUOTE: {'eventType': 'Quote', 'eventSymbol': 'BTC/USD:CXTALP', 'eventTime': 0, 'sequence': 0, 'timeNanoPart': 0, 'bidTime': 0, 'bidExchangeCode': 'Z', 'bidPrice': 107500.68, 'bidSize': 0.015, 'askTime': 0, 'askExchangeCode': 'Z', 'askPrice': 108633.69, 'askSize': 0.015, 'symbol': 'BTC/USD'}\n",
            "QUOTE: {'eventType': 'Quote', 'eventSymbol': 'BTC/USD:CXTALP', 'eventTime': 0, 'sequence': 0, 'timeNanoPart': 0, 'bidTime': 0, 'bidExchangeCode': 'Z', 'bidPrice': 107500.68, 'bidSize': 0.015, 'askTime': 0, 'askExchangeCode': 'Z', 'askPrice': 108633.69, 'askSize': 0.015, 'symbol': 'BTC/USD'}\n",
            "Login successful.\n",
            "QUOTE: {'eventType': 'Quote', 'eventSymbol': 'BTC/USD:CXTALP', 'eventTime': 0, 'sequence': 0, 'timeNanoPart': 0, 'bidTime': 0, 'bidExchangeCode': 'Z', 'bidPrice': 107500.68, 'bidSize': 0.015, 'askTime': 0, 'askExchangeCode': 'Z', 'askPrice': 108634.09, 'askSize': 0.015, 'symbol': 'BTC/USD'}\n",
            "QUOTE: {'eventType': 'Quote', 'eventSymbol': 'BTC/USD:CXTALP', 'eventTime': 0, 'sequence': 0, 'timeNanoPart': 0, 'bidTime': 0, 'bidExchangeCode': 'Z', 'bidPrice': 107500.68, 'bidSize': 0.015, 'askTime': 0, 'askExchangeCode': 'Z', 'askPrice': 108634.09, 'askSize': 0.015, 'symbol': 'BTC/USD'}\n",
            "Using account: 5WZ57015\n",
            "QUOTE: {'eventType': 'Quote', 'eventSymbol': 'BTC/USD:CXTALP', 'eventTime': 0, 'sequence': 0, 'timeNanoPart': 0, 'bidTime': 0, 'bidExchangeCode': 'Z', 'bidPrice': 107500.68, 'bidSize': 0.015, 'askTime': 0, 'askExchangeCode': 'Z', 'askPrice': 108633.55, 'askSize': 0.015, 'symbol': 'BTC/USD'}\n",
            "QUOTE: {'eventType': 'Quote', 'eventSymbol': 'BTC/USD:CXTALP', 'eventTime': 0, 'sequence': 0, 'timeNanoPart': 0, 'bidTime': 0, 'bidExchangeCode': 'Z', 'bidPrice': 107500.68, 'bidSize': 0.015, 'askTime': 0, 'askExchangeCode': 'Z', 'askPrice': 108633.55, 'askSize': 0.015, 'symbol': 'BTC/USD'}\n",
            "\n",
            "=== Account Balances ===\n",
            "account-number                : 5WZ57015\n",
            "available-trading-funds       : 0.0\n",
            "bond-margin-requirement       : 0.0\n",
            "cash-available-to-withdraw    : 36.44\n",
            "cash-balance                  : 10036.44\n",
            "cash-settle-balance           : 10036.44\n",
            "closed-loop-available-balance : 10036.44\n",
            "cryptocurrency-margin-requirement: 0.0\n",
            "currency                      : USD\n",
            "day-equity-call-value         : 0.0\n",
            "day-trade-excess              : 10036.44\n",
            "day-trading-buying-power      : 0.0\n",
            "day-trading-call-value        : 0.0\n",
            "derivative-buying-power       : 10036.44\n",
            "equity-buying-power           : 20072.88\n",
            "equity-offering-margin-requirement: 0.0\n",
            "fixed-income-security-margin-requirement: 0.0\n",
            "futures-margin-requirement    : 0.0\n",
            "intraday-equities-cash-amount : 36.437\n",
            "intraday-equities-cash-effect : Credit\n",
            "intraday-equities-cash-effective-date: 2025-07-01\n",
            "intraday-futures-cash-amount  : 0.0\n",
            "intraday-futures-cash-effect  : None\n",
            "long-bond-value               : 0.0\n",
            "long-cryptocurrency-value     : 0.0\n",
            "long-derivative-value         : 0.0\n",
            "long-equity-value             : 0.0\n",
            "long-fixed-income-security-value: 0.0\n",
            "long-futures-derivative-value : 0.0\n",
            "long-futures-value            : 0.0\n",
            "long-margineable-value        : 0.0\n",
            "maintenance-call-value        : 0.0\n",
            "maintenance-requirement       : 0.0\n",
            "margin-equity                 : 10036.44\n",
            "margin-settle-balance         : 10036.44\n",
            "net-liquidating-value         : 10036.44\n",
            "pending-cash                  : 0.0\n",
            "pending-cash-effect           : None\n",
            "previous-day-cryptocurrency-fiat-amount: 0.0\n",
            "previous-day-cryptocurrency-fiat-effect: None\n",
            "reg-t-call-value              : 0.0\n",
            "short-cryptocurrency-value    : 0.0\n",
            "short-derivative-value        : 0.0\n",
            "short-equity-value            : 0.0\n",
            "short-futures-derivative-value: 0.0\n",
            "short-futures-value           : 0.0\n",
            "short-margineable-value       : 0.0\n",
            "sma-equity-option-buying-power: 10036.44\n",
            "special-memorandum-account-apex-adjustment: 0.0\n",
            "special-memorandum-account-value: 10036.44\n",
            "total-settle-balance          : 10036.44\n",
            "unsettled-cryptocurrency-fiat-amount: 0.0\n",
            "unsettled-cryptocurrency-fiat-effect: None\n",
            "used-derivative-buying-power  : 0.0\n",
            "snapshot-date                 : 2025-07-05\n",
            "reg-t-margin-requirement      : 0.0\n",
            "futures-overnight-margin-requirement: 0.0\n",
            "futures-intraday-margin-requirement: 0.0\n",
            "maintenance-excess            : 10036.44\n",
            "pending-margin-interest       : 0.0\n",
            "buying-power-adjustment       : 0.0\n",
            "buying-power-adjustment-effect: None\n",
            "effective-cryptocurrency-buying-power: 10036.44\n",
            "total-pending-liquidity-pool-rebate: 0.0\n",
            "long-index-derivative-value   : 0.0\n",
            "short-index-derivative-value  : 0.0\n",
            "updated-at                    : 2025-07-04T19:20:55.870+00:00\n",
            "Logged out.\n"
          ]
        }
      ]
    }
  ]
}